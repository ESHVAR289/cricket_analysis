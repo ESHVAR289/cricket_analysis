{
 "cells": [
  {
   "cell_type": "code",
   "execution_count": 1,
   "metadata": {},
   "outputs": [],
   "source": [
    "import numpy as np"
   ]
  },
  {
   "cell_type": "code",
   "execution_count": 2,
   "metadata": {},
   "outputs": [],
   "source": [
    "import pandas as pd"
   ]
  },
  {
   "cell_type": "code",
   "execution_count": 3,
   "metadata": {},
   "outputs": [],
   "source": [
    "import os "
   ]
  },
  {
   "cell_type": "code",
   "execution_count": 4,
   "metadata": {},
   "outputs": [
    {
     "name": "stdout",
     "output_type": "stream",
     "text": [
      "['sys', 'lost+found', 'bin', 'lib', 'dev', 'cdrom', 'usr', 'tmp', 'proc', 'etc', 'boot', 'root', 'media', 'home', 'lib64', 'opt', 'libx32', 'lib32', 'snap', 'run', 'srv', 'sbin', 'mnt', 'var']\n"
     ]
    }
   ],
   "source": [
    "print(os.listdir(\"/\"))"
   ]
  },
  {
   "cell_type": "code",
   "execution_count": 14,
   "metadata": {},
   "outputs": [
    {
     "name": "stdout",
     "output_type": "stream",
     "text": [
      "['Men T20I Team Batting Stats.csv', 'cricket.ipynb', 'Men Test Player Innings Stats - 20th Century.csv', 'Women Test Player Innings Stats - 20th Century.csv', 'Men T20I Team Bowling Stats.csv', 'Men Test Team Batting Stats.csv', '3246_1116779_bundle_archive.zip', 'Men Test Team Match Results - 20th Century.csv', 'Women ODI Player Innings Stats - 21st Century.csv', 'Men ODI Team Match Results - 20th Century.csv', 'Men Test Team Match Results - 21st Century.csv', 'Men ODI Team Batting Stats.csv', 'Men ODI Team Match Results - 21st Century.csv', 'Women ODI Player Innings Stats - 20th Century.csv', '.ipynb_checkpoints', 'Men Test Team Bowling Stats.csv', 'Men T20I Team Match Results - 21st Century.csv', 'Men Test Team Match Results - 19th Century.csv', 'Women T20I Player Innings Stats - 21st Century.csv', 'Men ODI Player Innings Stats - 21st Century.csv', 'IPL Player Stats - 2016 till 2019.csv', 'datasets_3246_1116779_IPL Player Stats - 2016 till 2019.csv', 'Women Test Player Innings Stats - 21st Century.csv', 'Men Test Player Innings Stats - 19th Century.csv', 'Men T20I Player Innings Stats - 21st Century.csv', 'Men ODI Team Bowling Stats.csv', 'Men ODI Player Innings Stats - 20th Century.csv', 'Men Test Player Innings Stats - 21st Century.csv']\n"
     ]
    }
   ],
   "source": [
    "print(os.listdir(\"/home/eshvar/programming/python_coding/kaggle/dataset/espn_stats_guru/\"))"
   ]
  },
  {
   "cell_type": "code",
   "execution_count": 15,
   "metadata": {},
   "outputs": [],
   "source": [
    "dataset = pd.read_csv('/home/eshvar/programming/python_coding/kaggle/dataset/espn_stats_guru/Men ODI Player Innings Stats - 21st Century.csv')"
   ]
  },
  {
   "cell_type": "code",
   "execution_count": 16,
   "metadata": {},
   "outputs": [
    {
     "ename": "AttributeError",
     "evalue": "'DataFrame' object has no attribute 'coulumns'",
     "output_type": "error",
     "traceback": [
      "\u001b[0;31m---------------------------------------------------------------------------\u001b[0m",
      "\u001b[0;31mAttributeError\u001b[0m                            Traceback (most recent call last)",
      "\u001b[0;32m<ipython-input-16-67cf274abcad>\u001b[0m in \u001b[0;36m<module>\u001b[0;34m\u001b[0m\n\u001b[0;32m----> 1\u001b[0;31m \u001b[0mdataset\u001b[0m\u001b[0;34m.\u001b[0m\u001b[0mcoulumns\u001b[0m\u001b[0;34m\u001b[0m\u001b[0;34m\u001b[0m\u001b[0m\n\u001b[0m",
      "\u001b[0;32m~/.local/lib/python3.8/site-packages/pandas/core/generic.py\u001b[0m in \u001b[0;36m__getattr__\u001b[0;34m(self, name)\u001b[0m\n\u001b[1;32m   5128\u001b[0m             \u001b[0;32mif\u001b[0m \u001b[0mself\u001b[0m\u001b[0;34m.\u001b[0m\u001b[0m_info_axis\u001b[0m\u001b[0;34m.\u001b[0m\u001b[0m_can_hold_identifiers_and_holds_name\u001b[0m\u001b[0;34m(\u001b[0m\u001b[0mname\u001b[0m\u001b[0;34m)\u001b[0m\u001b[0;34m:\u001b[0m\u001b[0;34m\u001b[0m\u001b[0;34m\u001b[0m\u001b[0m\n\u001b[1;32m   5129\u001b[0m                 \u001b[0;32mreturn\u001b[0m \u001b[0mself\u001b[0m\u001b[0;34m[\u001b[0m\u001b[0mname\u001b[0m\u001b[0;34m]\u001b[0m\u001b[0;34m\u001b[0m\u001b[0;34m\u001b[0m\u001b[0m\n\u001b[0;32m-> 5130\u001b[0;31m             \u001b[0;32mreturn\u001b[0m \u001b[0mobject\u001b[0m\u001b[0;34m.\u001b[0m\u001b[0m__getattribute__\u001b[0m\u001b[0;34m(\u001b[0m\u001b[0mself\u001b[0m\u001b[0;34m,\u001b[0m \u001b[0mname\u001b[0m\u001b[0;34m)\u001b[0m\u001b[0;34m\u001b[0m\u001b[0;34m\u001b[0m\u001b[0m\n\u001b[0m\u001b[1;32m   5131\u001b[0m \u001b[0;34m\u001b[0m\u001b[0m\n\u001b[1;32m   5132\u001b[0m     \u001b[0;32mdef\u001b[0m \u001b[0m__setattr__\u001b[0m\u001b[0;34m(\u001b[0m\u001b[0mself\u001b[0m\u001b[0;34m,\u001b[0m \u001b[0mname\u001b[0m\u001b[0;34m:\u001b[0m \u001b[0mstr\u001b[0m\u001b[0;34m,\u001b[0m \u001b[0mvalue\u001b[0m\u001b[0;34m)\u001b[0m \u001b[0;34m->\u001b[0m \u001b[0;32mNone\u001b[0m\u001b[0;34m:\u001b[0m\u001b[0;34m\u001b[0m\u001b[0;34m\u001b[0m\u001b[0m\n",
      "\u001b[0;31mAttributeError\u001b[0m: 'DataFrame' object has no attribute 'coulumns'"
     ]
    }
   ],
   "source": [
    "dataset.coulumns"
   ]
  },
  {
   "cell_type": "code",
   "execution_count": 17,
   "metadata": {},
   "outputs": [
    {
     "data": {
      "text/plain": [
       "Index(['Innings Player', 'Innings Runs Scored', 'Innings Runs Scored Num',\n",
       "       'Innings Minutes Batted', 'Innings Batted Flag', 'Innings Not Out Flag',\n",
       "       'Innings Balls Faced', 'Innings Boundary Fours',\n",
       "       'Innings Boundary Sixes', 'Innings Batting Strike Rate',\n",
       "       'Innings Number', 'Opposition', 'Ground', 'Innings Date', 'Country',\n",
       "       '50's', '100's', 'Innings Runs Scored Buckets', 'Innings Overs Bowled',\n",
       "       'Innings Bowled Flag', 'Innings Maidens Bowled',\n",
       "       'Innings Runs Conceded', 'Innings Wickets Taken', '4 Wickets',\n",
       "       '5 Wickets', '10 Wickets', 'Innings Wickets Taken Buckets',\n",
       "       'Innings Economy Rate'],\n",
       "      dtype='object')"
      ]
     },
     "execution_count": 17,
     "metadata": {},
     "output_type": "execute_result"
    }
   ],
   "source": [
    "dataset.columns"
   ]
  },
  {
   "cell_type": "code",
   "execution_count": 18,
   "metadata": {},
   "outputs": [
    {
     "data": {
      "text/html": [
       "<div>\n",
       "<style scoped>\n",
       "    .dataframe tbody tr th:only-of-type {\n",
       "        vertical-align: middle;\n",
       "    }\n",
       "\n",
       "    .dataframe tbody tr th {\n",
       "        vertical-align: top;\n",
       "    }\n",
       "\n",
       "    .dataframe thead th {\n",
       "        text-align: right;\n",
       "    }\n",
       "</style>\n",
       "<table border=\"1\" class=\"dataframe\">\n",
       "  <thead>\n",
       "    <tr style=\"text-align: right;\">\n",
       "      <th></th>\n",
       "      <th>Innings Player</th>\n",
       "      <th>Innings Runs Scored</th>\n",
       "      <th>Innings Runs Scored Num</th>\n",
       "      <th>Innings Minutes Batted</th>\n",
       "      <th>Innings Batted Flag</th>\n",
       "      <th>Innings Not Out Flag</th>\n",
       "      <th>Innings Balls Faced</th>\n",
       "      <th>Innings Boundary Fours</th>\n",
       "      <th>Innings Boundary Sixes</th>\n",
       "      <th>Innings Batting Strike Rate</th>\n",
       "      <th>...</th>\n",
       "      <th>Innings Overs Bowled</th>\n",
       "      <th>Innings Bowled Flag</th>\n",
       "      <th>Innings Maidens Bowled</th>\n",
       "      <th>Innings Runs Conceded</th>\n",
       "      <th>Innings Wickets Taken</th>\n",
       "      <th>4 Wickets</th>\n",
       "      <th>5 Wickets</th>\n",
       "      <th>10 Wickets</th>\n",
       "      <th>Innings Wickets Taken Buckets</th>\n",
       "      <th>Innings Economy Rate</th>\n",
       "    </tr>\n",
       "  </thead>\n",
       "  <tbody>\n",
       "    <tr>\n",
       "      <th>0</th>\n",
       "      <td>JJ Roy</td>\n",
       "      <td>180</td>\n",
       "      <td>180</td>\n",
       "      <td>151</td>\n",
       "      <td>1.0</td>\n",
       "      <td>0.0</td>\n",
       "      <td>151</td>\n",
       "      <td>16</td>\n",
       "      <td>5</td>\n",
       "      <td>119.20</td>\n",
       "      <td>...</td>\n",
       "      <td>NaN</td>\n",
       "      <td>NaN</td>\n",
       "      <td>NaN</td>\n",
       "      <td>NaN</td>\n",
       "      <td>NaN</td>\n",
       "      <td>NaN</td>\n",
       "      <td>NaN</td>\n",
       "      <td>NaN</td>\n",
       "      <td>NaN</td>\n",
       "      <td>NaN</td>\n",
       "    </tr>\n",
       "    <tr>\n",
       "      <th>1</th>\n",
       "      <td>AD Hales</td>\n",
       "      <td>171</td>\n",
       "      <td>171</td>\n",
       "      <td>166</td>\n",
       "      <td>1.0</td>\n",
       "      <td>0.0</td>\n",
       "      <td>122</td>\n",
       "      <td>22</td>\n",
       "      <td>4</td>\n",
       "      <td>140.16</td>\n",
       "      <td>...</td>\n",
       "      <td>NaN</td>\n",
       "      <td>NaN</td>\n",
       "      <td>NaN</td>\n",
       "      <td>NaN</td>\n",
       "      <td>NaN</td>\n",
       "      <td>NaN</td>\n",
       "      <td>NaN</td>\n",
       "      <td>NaN</td>\n",
       "      <td>NaN</td>\n",
       "      <td>NaN</td>\n",
       "    </tr>\n",
       "    <tr>\n",
       "      <th>2</th>\n",
       "      <td>JJ Roy</td>\n",
       "      <td>162</td>\n",
       "      <td>162</td>\n",
       "      <td>172</td>\n",
       "      <td>1.0</td>\n",
       "      <td>0.0</td>\n",
       "      <td>118</td>\n",
       "      <td>13</td>\n",
       "      <td>3</td>\n",
       "      <td>137.28</td>\n",
       "      <td>...</td>\n",
       "      <td>NaN</td>\n",
       "      <td>NaN</td>\n",
       "      <td>NaN</td>\n",
       "      <td>NaN</td>\n",
       "      <td>NaN</td>\n",
       "      <td>NaN</td>\n",
       "      <td>NaN</td>\n",
       "      <td>NaN</td>\n",
       "      <td>NaN</td>\n",
       "      <td>NaN</td>\n",
       "    </tr>\n",
       "    <tr>\n",
       "      <th>3</th>\n",
       "      <td>AJ Strauss</td>\n",
       "      <td>158</td>\n",
       "      <td>158</td>\n",
       "      <td>188</td>\n",
       "      <td>1.0</td>\n",
       "      <td>0.0</td>\n",
       "      <td>145</td>\n",
       "      <td>18</td>\n",
       "      <td>1</td>\n",
       "      <td>108.96</td>\n",
       "      <td>...</td>\n",
       "      <td>NaN</td>\n",
       "      <td>NaN</td>\n",
       "      <td>NaN</td>\n",
       "      <td>NaN</td>\n",
       "      <td>NaN</td>\n",
       "      <td>NaN</td>\n",
       "      <td>NaN</td>\n",
       "      <td>NaN</td>\n",
       "      <td>NaN</td>\n",
       "      <td>NaN</td>\n",
       "    </tr>\n",
       "    <tr>\n",
       "      <th>4</th>\n",
       "      <td>AJ Strauss</td>\n",
       "      <td>154</td>\n",
       "      <td>154</td>\n",
       "      <td>201</td>\n",
       "      <td>1.0</td>\n",
       "      <td>0.0</td>\n",
       "      <td>140</td>\n",
       "      <td>16</td>\n",
       "      <td>5</td>\n",
       "      <td>110.00</td>\n",
       "      <td>...</td>\n",
       "      <td>NaN</td>\n",
       "      <td>NaN</td>\n",
       "      <td>NaN</td>\n",
       "      <td>NaN</td>\n",
       "      <td>NaN</td>\n",
       "      <td>NaN</td>\n",
       "      <td>NaN</td>\n",
       "      <td>NaN</td>\n",
       "      <td>NaN</td>\n",
       "      <td>NaN</td>\n",
       "    </tr>\n",
       "  </tbody>\n",
       "</table>\n",
       "<p>5 rows × 28 columns</p>\n",
       "</div>"
      ],
      "text/plain": [
       "  Innings Player Innings Runs Scored Innings Runs Scored Num  \\\n",
       "0         JJ Roy                 180                     180   \n",
       "1       AD Hales                 171                     171   \n",
       "2         JJ Roy                 162                     162   \n",
       "3     AJ Strauss                 158                     158   \n",
       "4     AJ Strauss                 154                     154   \n",
       "\n",
       "  Innings Minutes Batted  Innings Batted Flag  Innings Not Out Flag  \\\n",
       "0                    151                  1.0                   0.0   \n",
       "1                    166                  1.0                   0.0   \n",
       "2                    172                  1.0                   0.0   \n",
       "3                    188                  1.0                   0.0   \n",
       "4                    201                  1.0                   0.0   \n",
       "\n",
       "  Innings Balls Faced Innings Boundary Fours Innings Boundary Sixes  \\\n",
       "0                 151                     16                      5   \n",
       "1                 122                     22                      4   \n",
       "2                 118                     13                      3   \n",
       "3                 145                     18                      1   \n",
       "4                 140                     16                      5   \n",
       "\n",
       "  Innings Batting Strike Rate  ... Innings Overs Bowled Innings Bowled Flag  \\\n",
       "0                      119.20  ...                  NaN                 NaN   \n",
       "1                      140.16  ...                  NaN                 NaN   \n",
       "2                      137.28  ...                  NaN                 NaN   \n",
       "3                      108.96  ...                  NaN                 NaN   \n",
       "4                      110.00  ...                  NaN                 NaN   \n",
       "\n",
       "  Innings Maidens Bowled Innings Runs Conceded Innings Wickets Taken  \\\n",
       "0                    NaN                   NaN                   NaN   \n",
       "1                    NaN                   NaN                   NaN   \n",
       "2                    NaN                   NaN                   NaN   \n",
       "3                    NaN                   NaN                   NaN   \n",
       "4                    NaN                   NaN                   NaN   \n",
       "\n",
       "   4 Wickets  5 Wickets 10 Wickets Innings Wickets Taken Buckets  \\\n",
       "0        NaN        NaN        NaN                           NaN   \n",
       "1        NaN        NaN        NaN                           NaN   \n",
       "2        NaN        NaN        NaN                           NaN   \n",
       "3        NaN        NaN        NaN                           NaN   \n",
       "4        NaN        NaN        NaN                           NaN   \n",
       "\n",
       "   Innings Economy Rate  \n",
       "0                   NaN  \n",
       "1                   NaN  \n",
       "2                   NaN  \n",
       "3                   NaN  \n",
       "4                   NaN  \n",
       "\n",
       "[5 rows x 28 columns]"
      ]
     },
     "execution_count": 18,
     "metadata": {},
     "output_type": "execute_result"
    }
   ],
   "source": [
    "dataset.head()"
   ]
  },
  {
   "cell_type": "code",
   "execution_count": null,
   "metadata": {},
   "outputs": [],
   "source": []
  }
 ],
 "metadata": {
  "kernelspec": {
   "display_name": "Python 3",
   "language": "python",
   "name": "python3"
  },
  "language_info": {
   "codemirror_mode": {
    "name": "ipython",
    "version": 3
   },
   "file_extension": ".py",
   "mimetype": "text/x-python",
   "name": "python",
   "nbconvert_exporter": "python",
   "pygments_lexer": "ipython3",
   "version": "3.8.3"
  }
 },
 "nbformat": 4,
 "nbformat_minor": 4
}
