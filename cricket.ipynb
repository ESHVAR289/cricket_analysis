{
 "cells": [
  {
   "cell_type": "code",
   "execution_count": 1,
   "metadata": {},
   "outputs": [],
   "source": [
    "import numpy as np"
   ]
  },
  {
   "cell_type": "code",
   "execution_count": 2,
   "metadata": {},
   "outputs": [],
   "source": [
    "import pandas as pd"
   ]
  },
  {
   "cell_type": "code",
   "execution_count": 3,
   "metadata": {},
   "outputs": [],
   "source": [
    "import os "
   ]
  },
  {
   "cell_type": "code",
   "execution_count": 4,
   "metadata": {},
   "outputs": [
    {
     "name": "stdout",
     "output_type": "stream",
     "text": [
      "['sys', 'lost+found', 'bin', 'lib', 'dev', 'cdrom', 'usr', 'tmp', 'proc', 'etc', 'boot', 'root', 'media', 'home', 'lib64', 'opt', 'libx32', 'lib32', 'snap', 'run', 'srv', 'sbin', 'mnt', 'var']\n"
     ]
    }
   ],
   "source": [
    "print(os.listdir(\"/\"))"
   ]
  },
  {
   "cell_type": "code",
   "execution_count": 14,
   "metadata": {},
   "outputs": [
    {
     "name": "stdout",
     "output_type": "stream",
     "text": [
      "['Men T20I Team Batting Stats.csv', 'cricket.ipynb', 'Men Test Player Innings Stats - 20th Century.csv', 'Women Test Player Innings Stats - 20th Century.csv', 'Men T20I Team Bowling Stats.csv', 'Men Test Team Batting Stats.csv', '3246_1116779_bundle_archive.zip', 'Men Test Team Match Results - 20th Century.csv', 'Women ODI Player Innings Stats - 21st Century.csv', 'Men ODI Team Match Results - 20th Century.csv', 'Men Test Team Match Results - 21st Century.csv', 'Men ODI Team Batting Stats.csv', 'Men ODI Team Match Results - 21st Century.csv', 'Women ODI Player Innings Stats - 20th Century.csv', '.ipynb_checkpoints', 'Men Test Team Bowling Stats.csv', 'Men T20I Team Match Results - 21st Century.csv', 'Men Test Team Match Results - 19th Century.csv', 'Women T20I Player Innings Stats - 21st Century.csv', 'Men ODI Player Innings Stats - 21st Century.csv', 'IPL Player Stats - 2016 till 2019.csv', 'datasets_3246_1116779_IPL Player Stats - 2016 till 2019.csv', 'Women Test Player Innings Stats - 21st Century.csv', 'Men Test Player Innings Stats - 19th Century.csv', 'Men T20I Player Innings Stats - 21st Century.csv', 'Men ODI Team Bowling Stats.csv', 'Men ODI Player Innings Stats - 20th Century.csv', 'Men Test Player Innings Stats - 21st Century.csv']\n"
     ]
    }
   ],
   "source": [
    "print(os.listdir(\"/home/eshvar/programming/python_coding/kaggle/dataset/espn_stats_guru/\"))"
   ]
  },
  {
   "cell_type": "code",
   "execution_count": null,
   "metadata": {},
   "outputs": [],
   "source": []
  }
 ],
 "metadata": {
  "kernelspec": {
   "display_name": "Python 3",
   "language": "python",
   "name": "python3"
  },
  "language_info": {
   "codemirror_mode": {
    "name": "ipython",
    "version": 3
   },
   "file_extension": ".py",
   "mimetype": "text/x-python",
   "name": "python",
   "nbconvert_exporter": "python",
   "pygments_lexer": "ipython3",
   "version": "3.8.3"
  }
 },
 "nbformat": 4,
 "nbformat_minor": 4
}
